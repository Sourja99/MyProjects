{
  "nbformat": 4,
  "nbformat_minor": 0,
  "metadata": {
    "colab": {
      "name": "Trigram model.ipynb",
      "provenance": [],
      "include_colab_link": true
    },
    "kernelspec": {
      "name": "python3",
      "display_name": "Python 3"
    },
    "language_info": {
      "name": "python"
    }
  },
  "cells": [
    {
      "cell_type": "markdown",
      "metadata": {
        "id": "view-in-github",
        "colab_type": "text"
      },
      "source": [
        "<a href=\"https://colab.research.google.com/github/Sourja99/MyProjects/blob/main/N-Grams.ipynb\" target=\"_parent\"><img src=\"https://colab.research.google.com/assets/colab-badge.svg\" alt=\"Open In Colab\"/></a>"
      ]
    },
    {
      "cell_type": "markdown",
      "metadata": {
        "id": "uWR4OUFajQVw"
      },
      "source": [
        "#  N-Grams\n",
        "\n",
        "N-grams represent the sequence of N words that are found in a text. They are commonly used as a model of the text language since they represent the frequence of words/phrases appearing in the text.\n",
        "\n",
        "Common types of N-grams:\n",
        "\n",
        "    unigrams - these are the set of single words appearing in the text\n",
        "    bigrams - these are the set of word pairs, like \"good day\" or \"big deal\", from the text\n",
        "    trigrams - these are the set of word triples, like \"really good food\", from the text\n",
        "\n",
        "To build bigrams for a text, you need to extract all possible word pairs from the text and count how many times each pair occurs. Then, you can use the top N words (1000), or the top percent (50%) as your language model."
      ]
    },
    {
      "cell_type": "code",
      "metadata": {
        "id": "8tsJlsYfbE8x"
      },
      "source": [
        "import nltk"
      ],
      "execution_count": null,
      "outputs": []
    },
    {
      "cell_type": "code",
      "metadata": {
        "colab": {
          "base_uri": "https://localhost:8080/"
        },
        "id": "U6TeOyC_bE_L",
        "outputId": "1d9daed8-be32-4512-f4c4-05efe57d99e0"
      },
      "source": [
        "from nltk.util import ngrams\n",
        "\n",
        "input= 'The dogs chasing the cat bark'\n",
        "N = 3\n",
        "trigrams = ngrams(input.split(), N)\n",
        "for grams in trigrams:\n",
        "  print (grams)"
      ],
      "execution_count": null,
      "outputs": [
        {
          "output_type": "stream",
          "name": "stdout",
          "text": [
            "('The', 'dogs', 'chasing')\n",
            "('dogs', 'chasing', 'the')\n",
            "('chasing', 'the', 'cat')\n",
            "('the', 'cat', 'bark')\n"
          ]
        }
      ]
    }
  ]
}